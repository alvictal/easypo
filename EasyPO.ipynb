{
  "nbformat": 4,
  "nbformat_minor": 0,
  "metadata": {
    "colab": {
      "provenance": [],
      "authorship_tag": "ABX9TyPZinPqTZmHuDpRP8b4QCE5",
      "include_colab_link": true
    },
    "kernelspec": {
      "name": "python3",
      "display_name": "Python 3"
    },
    "language_info": {
      "name": "python"
    }
  },
  "cells": [
    {
      "cell_type": "markdown",
      "metadata": {
        "id": "view-in-github",
        "colab_type": "text"
      },
      "source": [
        "<a href=\"https://colab.research.google.com/github/alvictal/easypo/blob/main/EasyPO.ipynb\" target=\"_parent\"><img src=\"https://colab.research.google.com/assets/colab-badge.svg\" alt=\"Open In Colab\"/></a>"
      ]
    },
    {
      "cell_type": "markdown",
      "source": [
        "### Easy PO\n",
        "\n",
        "Este projeto visa utilizar o Gemini AI para otimizar o desenvolvimento de histórias e sua divisão em subtarefas para equipes de desenvolvimento de software sem a presença de um Product Owner (PO).\n",
        "\n",
        "Utilizando apenas o titúlo desejado, o sistema desenvolve todo o conteúdo necessário que uma boa história necessita. As histórias seguem o template clássico \"Como [persona], eu [quero], [para que]\" e incluem critérios de aceitação que servem como base para verificar a conclusão da atividade.\n",
        "\n",
        "O sistema, então, divide a história em subtarefas, categorizando-as em quatro áreas: Frontend, Backend, DevOps e Testes. Prontas para serem copiadas e coladas no seu sistema de gestão de atividaes."
      ],
      "metadata": {
        "id": "cqwvJFwAb_43"
      }
    },
    {
      "cell_type": "markdown",
      "source": [
        "### Importando a biblioteca do google-generativeai"
      ],
      "metadata": {
        "id": "Kei8x-gXdjkJ"
      }
    },
    {
      "cell_type": "code",
      "source": [
        "# Instalação da Google Generative Ai\n",
        "!pip install -q -U google-generativeai\n",
        "\n"
      ],
      "metadata": {
        "id": "UN_KjfXNSnxI"
      },
      "execution_count": 1,
      "outputs": []
    },
    {
      "cell_type": "markdown",
      "source": [
        "### Importando bibliotecas para dentro do código"
      ],
      "metadata": {
        "id": "TRAg2_p4d1qs"
      }
    },
    {
      "cell_type": "code",
      "source": [
        "# Importando bibliotecas\n",
        "import google.generativeai as genai\n",
        "import textwrap\n",
        "from IPython.display import display\n",
        "from IPython.display import Markdown\n",
        "from google.colab import userdata"
      ],
      "metadata": {
        "id": "2rraro2ldseS"
      },
      "execution_count": 43,
      "outputs": []
    },
    {
      "cell_type": "markdown",
      "source": [
        "### Criando função para facilitar o display em markdown do texto na tela"
      ],
      "metadata": {
        "id": "fBy_-vRmd5y4"
      }
    },
    {
      "cell_type": "code",
      "source": [
        "def to_markdown(text):\n",
        "  text = text.replace('•', '  *')\n",
        "  return Markdown(textwrap.indent(text, '> ', predicate=lambda _: True))"
      ],
      "metadata": {
        "id": "8H__M5yvdv7M"
      },
      "execution_count": 44,
      "outputs": []
    },
    {
      "cell_type": "markdown",
      "source": [
        "### Configurando keys de acesso ao serviço do gemini"
      ],
      "metadata": {
        "id": "7idISIe1eCyS"
      }
    },
    {
      "cell_type": "code",
      "source": [
        "# Armazenamento da chave de API\n",
        "api_key = userdata.get(\"SKEY\")\n",
        "\n",
        "# Configuração da chave de API\n",
        "genai.configure(api_key = api_key)"
      ],
      "metadata": {
        "id": "-t6UrFcVS12j"
      },
      "execution_count": 45,
      "outputs": []
    },
    {
      "cell_type": "markdown",
      "source": [
        "### Configuração o modelo generativo"
      ],
      "metadata": {
        "id": "mkNtuZlkeHsi"
      }
    },
    {
      "cell_type": "code",
      "source": [
        "\n",
        "generation_config = {\n",
        "    \"candidate_count\" : 1,\n",
        "    \"temperature\" : 0.7,\n",
        "    \"top_p\": 0.90,\n",
        "    \"top_k\" : 32\n",
        "}\n",
        "\n",
        "safety_settings = {\n",
        "    \"HARASSMENT\" : \"BLOCK_MEDIUM_AND_ABOVE\",\n",
        "    \"HATE\" : \"BLOCK_MEDIUM_AND_ABOVE\",\n",
        "    \"SEXUAL\" : \"BLOCK_MEDIUM_AND_ABOVE\",\n",
        "    \"DANGEROUS\" : \"BLOCK_MEDIUM_AND_ABOVE\"\n",
        "}\n",
        "\n",
        "model = genai.GenerativeModel(\"gemini-1.0-pro\",\n",
        "                              generation_config = generation_config,\n",
        "                              safety_settings = safety_settings)\n",
        ""
      ],
      "metadata": {
        "id": "ZbgQhT0xUbBh"
      },
      "execution_count": 53,
      "outputs": []
    },
    {
      "cell_type": "markdown",
      "source": [
        "### Preparando o prompt do usuário para adquirir o titulo da história"
      ],
      "metadata": {
        "id": "3eJCAeJXeNW3"
      }
    },
    {
      "cell_type": "code",
      "source": [
        "prompt = \"Atuando como um Product Owner que está escrevendo histórias em uma ferramenta do jira \\\n",
        " Deve ser usado o template entre aspas a seguir \\\"Como [persona], eu [quero], [para que]\\\" para gerar   \\\n",
        " a descrição da atividade. A descrição da atividade deve ser em texto corrido ocultando o template aqui citado. \\\n",
        " Deve então criar os critérios de aceitação dessa história . \\\n",
        " Desenvolva a história baseado no titulo a seguir. \"\n",
        "\n",
        "user_input = input(\"Entre com o titulo da sua história no Jira: \")\n",
        "\n",
        "prompt += \"\\n\".join(user_input)"
      ],
      "metadata": {
        "colab": {
          "base_uri": "https://localhost:8080/"
        },
        "id": "nlx4tpltTF2R",
        "outputId": "e31b5d5c-a93a-47cb-a02b-2aed45e78e3a"
      },
      "execution_count": 54,
      "outputs": [
        {
          "name": "stdout",
          "output_type": "stream",
          "text": [
            "Entre com o titulo da sua história no Jira: Criar uma tabela mostrando os resultados da pesquisa\n"
          ]
        }
      ]
    },
    {
      "cell_type": "markdown",
      "source": [
        "### Gerar o primeiro resultado do primeiro prompt e utiliza-lo em um segundo prompts para quebrar em sub-tarefas"
      ],
      "metadata": {
        "id": "NOL1nADGeR4G"
      }
    },
    {
      "cell_type": "code",
      "source": [
        "response = model.generate_content(prompt)\n",
        "\n",
        "prompt_2 = \"Atuando como um desenvolvedor de software, quebre a história abaixo em sub-tarefas \\\n",
        " destacando se é uma atividade de frontend, backend, devops ou tester.\"\n",
        "prompt_2 += \"\\n\".join(response.text)\n",
        "\n",
        "subtask_response = model.generate_content(prompt_2)\n"
      ],
      "metadata": {
        "id": "TcLTmMKlVeM6"
      },
      "execution_count": 55,
      "outputs": []
    },
    {
      "cell_type": "markdown",
      "source": [
        "### Mostrar o resultado para o usuário"
      ],
      "metadata": {
        "id": "OOtrs6JqeqQJ"
      }
    },
    {
      "cell_type": "code",
      "source": [
        "display(to_markdown(\"### História ###\"))\n",
        "display(to_markdown(response.text))\n",
        "display(to_markdown(\"### Tasks ###\"))\n",
        "display(to_markdown(subtask_response.text))"
      ],
      "metadata": {
        "colab": {
          "base_uri": "https://localhost:8080/",
          "height": 720
        },
        "id": "UvEo7ru5eY0t",
        "outputId": "26a24d30-1c35-41e7-a283-397254087bf1"
      },
      "execution_count": 56,
      "outputs": [
        {
          "output_type": "display_data",
          "data": {
            "text/plain": [
              "<IPython.core.display.Markdown object>"
            ],
            "text/markdown": "> ### História ###"
          },
          "metadata": {}
        },
        {
          "output_type": "display_data",
          "data": {
            "text/plain": [
              "<IPython.core.display.Markdown object>"
            ],
            "text/markdown": "> **Título:** Criar uma tabela mostrando os resultados da pesquisa\n> \n> **Descrição:**\n> \n> Como gerente de produto, quero criar uma tabela que mostre os resultados da pesquisa para que eu possa analisar e entender as descobertas com facilidade.\n> \n> **Critérios de Aceitação:**\n> \n> * A tabela deve incluir as seguintes colunas:\n>     * Pergunta da pesquisa\n>     * Resposta\n>     * Contagem de respostas\n> * A tabela deve ser ordenada pelo número de respostas, da maior para a menor.\n> * A tabela deve ser exportável para CSV ou Excel.\n> * A tabela deve ser atualizada automaticamente quando novos dados da pesquisa forem adicionados."
          },
          "metadata": {}
        },
        {
          "output_type": "display_data",
          "data": {
            "text/plain": [
              "<IPython.core.display.Markdown object>"
            ],
            "text/markdown": "> ### Tasks ###"
          },
          "metadata": {}
        },
        {
          "output_type": "display_data",
          "data": {
            "text/plain": [
              "<IPython.core.display.Markdown object>"
            ],
            "text/markdown": "> **Sub-tarefas:**\n> \n> **Frontend:**\n> \n> * Criar a interface de usuário da tabela (colunas, títulos)\n> * Implementar a funcionalidade de ordenação por número de respostas\n> * Implementar a funcionalidade de exportação para CSV ou Excel\n> \n> **Backend:**\n> \n> * Criar o modelo de dados para a tabela\n> * Implementar a lógica para recuperar e ordenar os dados da pesquisa\n> * Implementar a lógica para exportar os dados para CSV ou Excel\n> * Implementar a lógica para atualizar automaticamente a tabela quando novos dados forem adicionados\n> \n> **DevOps:**\n> \n> * Configurar o ambiente de implantação\n> * Implantar a aplicação\n> * Monitorar a aplicação e garantir a disponibilidade\n> \n> **Tester:**\n> \n> * Testar a funcionalidade da tabela, incluindo ordenação, exportação e atualização automática\n> * Verificar se os critérios de aceitação são atendidos"
          },
          "metadata": {}
        }
      ]
    }
  ]
}